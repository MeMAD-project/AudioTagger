{
 "cells": [
  {
   "cell_type": "markdown",
   "metadata": {},
   "source": [
    "### 1. Input\n",
    "#### video/audio, conversion\n",
    "### 2. Conversion to AudioSet features\n",
    "### 3. Repeat & Truncate to 9.60 seconds\n",
    "### 4. Generating probabilties matrix & subtitles\n",
    "### 5. Intergrating with video"
   ]
  },
  {
   "cell_type": "code",
   "execution_count": 19,
   "metadata": {},
   "outputs": [
    {
     "name": "stdout",
     "output_type": "stream",
     "text": [
      "11/02/2018 13:19:50\n"
     ]
    }
   ],
   "source": [
    "import time                                          #1\n",
    "print (time.strftime(\"%m/%d/%Y %H:%M:%S\"))"
   ]
  },
  {
   "cell_type": "code",
   "execution_count": 1,
   "metadata": {},
   "outputs": [
    {
     "name": "stderr",
     "output_type": "stream",
     "text": [
      "Using TensorFlow backend.\n"
     ]
    }
   ],
   "source": [
    "import moviepy.editor as mp\n",
    "import numpy as np\n",
    "import os\n",
    "from scipy.io import wavfile\n",
    "import vggish_input\n",
    "import vggish_params\n",
    "import vggish_postprocess\n",
    "import vggish_slim\n",
    "import tensorflow as tf\n",
    "from keras.models import load_model\n",
    "import datetime\n",
    "import pandas as pd\n",
    "import plotly.plotly as py\n",
    "import plotly.graph_objs as go\n",
    "from plotly import __version__\n",
    "from plotly.offline import download_plotlyjs, init_notebook_mode, plot, iplot"
   ]
  },
  {
   "cell_type": "code",
   "execution_count": 2,
   "metadata": {
    "collapsed": true
   },
   "outputs": [],
   "source": [
    "def truncateAudioFs(data, fs):\n",
    "    i = 0\n",
    "    new_data=[]\n",
    "    while (i+1)*fs<len(data):\n",
    "        new_data.append(data[i*fs:i*fs + int(fs*0.96)])\n",
    "        i = i + 1\n",
    "    new_data.append(data[i*fs::])\n",
    "    new_data = np.vstack(new_data)\n",
    "    return new_data"
   ]
  },
  {
   "cell_type": "code",
   "execution_count": 3,
   "metadata": {
    "collapsed": true
   },
   "outputs": [],
   "source": [
    "def prepareAudio(WAV_FILE):\n",
    "    fs, data = wavfile.read(WAV_FILE)\n",
    "    data = truncateAudioFs(data, fs)\n",
    "    data = data / 32768.0\n",
    "    return vggish_input.waveform_to_examples(data, fs)"
   ]
  },
  {
   "cell_type": "code",
   "execution_count": 4,
   "metadata": {
    "collapsed": true
   },
   "outputs": [],
   "source": [
    "def genWave(videoName):\n",
    "    clip = mp.VideoFileClip(videoName)\n",
    "    if clip.audio is None:\n",
    "        print('No audio to recognize in the video.')\n",
    "        return 0\n",
    "    audioName = videoName[:-4]+'.wav'\n",
    "    clip.audio.write_audiofile(audioName, codec='pcm_s16le', verbose=1)# 16 bit 44100 fs PCM wav\n",
    "    return audioName"
   ]
  },
  {
   "cell_type": "code",
   "execution_count": 5,
   "metadata": {
    "collapsed": true
   },
   "outputs": [],
   "source": [
    "def getMelSpecGram(fname):\n",
    "    if not os.path.isfile(fname):\n",
    "        print('File does not exists.')\n",
    "        return 0\n",
    "    dataType = fname[-3:]\n",
    "    if dataType == 'mp4':\n",
    "        audioName = genWave(fname)\n",
    "        mels = prepareAudio(audioName)\n",
    "    elif dataType == 'wav':\n",
    "        mels = prepareAudio(fname)\n",
    "    return mels"
   ]
  },
  {
   "cell_type": "code",
   "execution_count": 24,
   "metadata": {},
   "outputs": [
    {
     "name": "stdout",
     "output_type": "stream",
     "text": [
      "11/02/2018 13:28:13\n",
      "11/02/2018 13:28:18\n"
     ]
    }
   ],
   "source": [
    "print (time.strftime(\"%m/%d/%Y %H:%M:%S\"))\n",
    "getMelSpecGram(FILE_NAME)\n",
    "print (time.strftime(\"%m/%d/%Y %H:%M:%S\"))\n"
   ]
  },
  {
   "cell_type": "code",
   "execution_count": 22,
   "metadata": {
    "collapsed": true
   },
   "outputs": [],
   "source": [
    "def getAudioSetFeatures(fname):\n",
    "    print('Start loading PCA parameters:')\n",
    "    print (time.strftime(\"%m/%d/%Y %H:%M:%S\"))\n",
    "    pproc = vggish_postprocess.Postprocessor('vggish_pca_params.npz')\n",
    "    print('Start getting Mels:')\n",
    "    print (time.strftime(\"%m/%d/%Y %H:%M:%S\"))\n",
    "    mels = getMelSpecGram(fname)\n",
    "    print('Start creating sessions:')\n",
    "\n",
    "    print (time.strftime(\"%m/%d/%Y %H:%M:%S\"))\n",
    "    with tf.Graph().as_default(), tf.Session() as sess:\n",
    "        # Define the model in inference mode, load the checkpoint, and\n",
    "        # locate input and output tensors.\n",
    "        vggish_slim.define_vggish_slim(training=False)\n",
    "        vggish_slim.load_vggish_slim_checkpoint(sess, 'vggish_model.ckpt')\n",
    "        print('Finish loading VGG model:')\n",
    "\n",
    "        print (time.strftime(\"%m/%d/%Y %H:%M:%S\"))\n",
    "        features_tensor = sess.graph.get_tensor_by_name(\n",
    "            vggish_params.INPUT_TENSOR_NAME)\n",
    "        embedding_tensor = sess.graph.get_tensor_by_name(\n",
    "            vggish_params.OUTPUT_TENSOR_NAME)\n",
    "        # Run inference and postprocessing.\n",
    "        print (time.strftime(\"%m/%d/%Y %H:%M:%S\"))\n",
    "        [embedding_batch] = sess.run([embedding_tensor],\n",
    "                                    feed_dict={features_tensor: mels})\n",
    "        print('Finish feeding VGG:')\n",
    "\n",
    "        postprocessed_batch = pproc.postprocess(embedding_batch)\n",
    "        print (time.strftime(\"%m/%d/%Y %H:%M:%S\"))\n",
    "\n",
    "        sample = unit8_to_float32(postprocessed_batch)\n",
    "    return sample"
   ]
  },
  {
   "cell_type": "code",
   "execution_count": 7,
   "metadata": {
    "collapsed": true
   },
   "outputs": [],
   "source": [
    "def unit8_to_float32(x):\n",
    "    return (np.float32(x) - 128.) / 128."
   ]
  },
  {
   "cell_type": "code",
   "execution_count": 8,
   "metadata": {
    "collapsed": true
   },
   "outputs": [],
   "source": [
    "def pad2Ten(features):\n",
    "    length = features.shape[0]\n",
    "    if length <= 10:\n",
    "        repetition = 10 // length + 1\n",
    "        padFeatures = np.zeros((30, 128))\n",
    "        start = 0\n",
    "        end = length\n",
    "        while start < 10:\n",
    "            padFeatures[start:end] = features\n",
    "            start = start + length\n",
    "            end = end + length\n",
    "        return padFeatures[0:10]\n",
    "    else:\n",
    "        return features[0:10]"
   ]
  },
  {
   "cell_type": "code",
   "execution_count": 9,
   "metadata": {
    "collapsed": true
   },
   "outputs": [],
   "source": [
    "def tenSegModelPreds(features, modelName, left=3, right=0):\n",
    "    model = load_model(modelName)\n",
    "    length = features.shape[0]\n",
    "    inputAll = np.zeros((length, 10, 128))\n",
    "    for i in range(length):\n",
    "        start = max(0, i - left)\n",
    "        end = min(length, i + 1 + right)\n",
    "        current = features[start:end]\n",
    "        current = pad2Ten(features[start:end])\n",
    "        inputAll[i] = current\n",
    "    predictions = model.predict(inputAll)\n",
    "    return predictions"
   ]
  },
  {
   "cell_type": "code",
   "execution_count": 10,
   "metadata": {
    "collapsed": true
   },
   "outputs": [],
   "source": [
    "def getStartEnd(num):\n",
    "    START_TIME = datetime.datetime(100,1,1,0,0,0)\n",
    "    start = START_TIME + datetime.timedelta(0,num*1+0.001)\n",
    "    end = START_TIME + datetime.timedelta(0,(num+1)*1)\n",
    "    return (str(start.time()).replace('.',',')[:-3], str(end.time())+\",000\")"
   ]
  },
  {
   "cell_type": "code",
   "execution_count": 11,
   "metadata": {
    "collapsed": true
   },
   "outputs": [],
   "source": [
    "def giveThres(pred, thres=0.015, showSpeechMusic=False):\n",
    "    with open(\"class_labels_indices.csv\", \"r\") as fh:\n",
    "        allclasses = fh.read().splitlines()\n",
    "    classes2displaynames={int(i.split(',')[0]):i.split(',')[2] for i in allclasses[1:]}\n",
    "    \n",
    "    sort = np.argsort(pred)\n",
    "    sort = sort[::-1]\n",
    "    for i in range(527):\n",
    "        if pred[sort[i+1]] < thres: break\n",
    "    sort = sort[0:i]\n",
    "    if showSpeechMusic == True : names = [classes2displaynames[i] for i in sort]\n",
    "    else: names = [classes2displaynames[i] for i in sort if i!=0 and i!=137]\n",
    "    sent = '--'.join(names)\n",
    "    return sent"
   ]
  },
  {
   "cell_type": "code",
   "execution_count": 12,
   "metadata": {
    "collapsed": true
   },
   "outputs": [],
   "source": [
    "def subWrite(f, num, sub):\n",
    "    f.write(str(num+1))\n",
    "    f.write(\"\\n\")\n",
    "    (start, end) = getStartEnd(num)\n",
    "    f.write(start)\n",
    "    f.write(' --> ')\n",
    "    f.write(end)\n",
    "    f.write(\"\\n\")\n",
    "    f.write(sub)\n",
    "    f.write(\"\\n\")\n",
    "    f.write(\"\\n\")"
   ]
  },
  {
   "cell_type": "code",
   "execution_count": 13,
   "metadata": {
    "collapsed": true
   },
   "outputs": [],
   "source": [
    "def genSubsThres(preds, fname, thres):\n",
    "    srtName = fname[:-4] + '.srt'\n",
    "    with open(srtName, \"w\") as f:\n",
    "        for i in range(len(preds)):\n",
    "            sub = giveThres(preds[i], thres)\n",
    "            subWrite(f, i, sub)"
   ]
  },
  {
   "cell_type": "code",
   "execution_count": 14,
   "metadata": {
    "collapsed": true
   },
   "outputs": [],
   "source": [
    "def giveSumRes(preds, thres=0.015, showSpeechMusic=False):\n",
    "    pred = np.average(preds,axis=0)\n",
    "    print('Tagging for the whold clip.')\n",
    "    with open(\"class_labels_indices.csv\", \"r\") as fh:\n",
    "        allclasses = fh.read().splitlines()\n",
    "    classes2displaynames={int(i.split(',')[0]):i.split(',')[2] for i in allclasses[1:]}\n",
    "    sort = np.argsort(pred)\n",
    "    sort = sort[::-1]\n",
    "    for i in range(527):\n",
    "        if pred[sort[i+1]] < thres: break\n",
    "    sort = sort[0:i]\n",
    "    if not showSpeechMusic:\n",
    "        sort = [index for index in sort if index!=0 and index!=137] \n",
    "    predSum = 0.0\n",
    "    for i in range(len(sort)):\n",
    "        predSum += pred[sort[i]]\n",
    "    for index in sort:\n",
    "        print(classes2displaynames[index])\n",
    "        print('----------------' + str(round(pred[index]/predSum*100,2)))"
   ]
  },
  {
   "cell_type": "code",
   "execution_count": 15,
   "metadata": {
    "collapsed": true
   },
   "outputs": [],
   "source": [
    "def printHeatMap(preds):\n",
    "    classes = pd.read_csv(\"/scratch/work/xuz2/Hackathon/class_labels_indices.csv\")\n",
    "    heatmap = go.Heatmap(z=np.transpose(preds), \n",
    "                     y=classes['display_name'],\n",
    "                     colorscale='Earth')\n",
    "                                  \n",
    "    data = [heatmap]\n",
    "\n",
    "    plot(data, filename= FILE_NAME[:-4] + '_LEFT_' + str(WINDOW_LEFT) + '_RIGHT_' + \n",
    "         str(WINDOW_RIGHT) + '.html')"
   ]
  },
  {
   "cell_type": "code",
   "execution_count": 16,
   "metadata": {
    "collapsed": true
   },
   "outputs": [],
   "source": [
    "FILE_NAME = 'Game of Thrones Season 7 Official Trailer (HBO).wav'# wav or mp4\n",
    "MODEL_NAME = 'model_27000[0.344128].h5'\n",
    "WINDOW_LEFT = 2\n",
    "WINDOW_RIGHT = 0\n",
    "THRESHOLD = 0.010\n",
    "SHOW_MUSIC_SPEECH = False"
   ]
  },
  {
   "cell_type": "code",
   "execution_count": 26,
   "metadata": {},
   "outputs": [],
   "source": [
    "model = load_model(MODEL_NAME)"
   ]
  },
  {
   "cell_type": "code",
   "execution_count": 27,
   "metadata": {},
   "outputs": [
    {
     "name": "stdout",
     "output_type": "stream",
     "text": [
      "Start loading PCA parameters:\n",
      "11/02/2018 13:40:50\n",
      "Start getting Mels:\n",
      "11/02/2018 13:40:50\n",
      "Start creating sessions:\n",
      "11/02/2018 13:40:54\n",
      "INFO:tensorflow:Restoring parameters from vggish_model.ckpt\n",
      "Finish loading VGG model:\n",
      "11/02/2018 13:40:58\n",
      "11/02/2018 13:40:58\n",
      "Finish feeding VGG:\n",
      "11/02/2018 13:41:06\n"
     ]
    }
   ],
   "source": [
    "features = getAudioSetFeatures(FILE_NAME)"
   ]
  },
  {
   "cell_type": "code",
   "execution_count": 31,
   "metadata": {},
   "outputs": [
    {
     "data": {
      "text/plain": [
       "(128,)"
      ]
     },
     "execution_count": 31,
     "metadata": {},
     "output_type": "execute_result"
    }
   ],
   "source": [
    "features[0].shape"
   ]
  },
  {
   "cell_type": "code",
   "execution_count": null,
   "metadata": {
    "collapsed": true
   },
   "outputs": [],
   "source": []
  },
  {
   "cell_type": "code",
   "execution_count": 33,
   "metadata": {},
   "outputs": [
    {
     "name": "stdout",
     "output_type": "stream",
     "text": [
      "11/02/2018 13:42:08\n"
     ]
    },
    {
     "data": {
      "text/plain": [
       "array([[4.58846420e-01, 5.67859551e-03, 6.77480269e-03, 1.15341938e-03,\n",
       "        5.72425639e-03, 8.07672832e-03, 1.59373216e-04, 3.98593163e-03,\n",
       "        2.72445381e-04, 4.36173839e-04, 7.55041139e-04, 2.74223188e-04,\n",
       "        3.19529063e-04, 6.35031145e-04, 4.55133413e-04, 2.29443912e-03,\n",
       "        9.24944121e-04, 3.08028975e-04, 3.51197785e-04, 1.76251645e-03,\n",
       "        2.97224760e-04, 1.40096049e-03, 3.02048778e-04, 6.32540090e-04,\n",
       "        9.32678638e-04, 3.16262199e-03, 3.23922560e-03, 2.83069722e-03,\n",
       "        1.43822294e-03, 3.32346564e-04, 2.08653603e-03, 2.38534668e-03,\n",
       "        7.77767971e-04, 1.17997627e-03, 1.46389400e-04, 7.21471326e-04,\n",
       "        8.29411380e-04, 3.23723361e-04, 6.98664982e-04, 4.07305517e-04,\n",
       "        8.04728654e-04, 1.31022942e-03, 2.63036869e-04, 2.31712474e-04,\n",
       "        1.47413788e-02, 1.60412237e-04, 1.28638381e-02, 4.53824672e-04,\n",
       "        7.60044961e-04, 5.44729119e-04, 1.91173549e-05, 1.21389492e-03,\n",
       "        5.91442513e-04, 3.47103528e-03, 1.70284894e-03, 1.17105199e-03,\n",
       "        1.02689824e-04, 2.55344843e-04, 4.61852556e-04, 2.57622974e-04,\n",
       "        3.72465613e-04, 2.54303537e-04, 1.07512542e-05, 2.32412567e-04,\n",
       "        5.61348163e-04, 7.61754345e-04, 2.54477817e-03, 3.43255815e-04,\n",
       "        8.32764374e-04, 2.96440953e-03, 1.33970019e-03, 5.58367683e-05,\n",
       "        2.69276649e-03, 8.52389552e-04, 5.34590916e-04, 1.11740745e-04,\n",
       "        4.13976173e-04, 1.92702253e-04, 2.86926312e-04, 1.25377323e-04,\n",
       "        2.11663631e-04, 4.58913157e-04, 1.07020445e-04, 6.54301140e-04,\n",
       "        7.43645069e-04, 6.79441873e-05, 7.10265478e-04, 5.52254904e-04,\n",
       "        5.27764321e-04, 2.86524999e-04, 2.26530261e-04, 1.69192339e-04,\n",
       "        7.21248507e-05, 2.30043675e-04, 1.22221594e-03, 5.02411684e-04,\n",
       "        2.03172467e-03, 2.12808582e-03, 9.87414620e-04, 2.81196903e-04,\n",
       "        3.74047639e-04, 1.70674452e-04, 3.57447396e-04, 3.24739114e-04,\n",
       "        5.03066985e-04, 8.43705260e-04, 3.91591166e-04, 7.01088808e-04,\n",
       "        9.19689075e-04, 2.90365657e-04, 4.11920715e-04, 9.77366231e-04,\n",
       "        1.04081817e-03, 1.15011877e-03, 2.26639124e-04, 2.37566419e-04,\n",
       "        3.02236556e-04, 6.88757689e-04, 6.45275228e-04, 5.41664020e-04,\n",
       "        1.81332070e-05, 1.04625062e-04, 1.48740874e-04, 1.11783261e-03,\n",
       "        1.49878114e-03, 1.33308931e-03, 2.41540978e-03, 1.48154958e-03,\n",
       "        5.03054296e-04, 5.78513136e-04, 2.64765485e-03, 5.59328822e-04,\n",
       "        1.13564637e-03, 1.67141654e-04, 4.94604406e-04, 2.82085780e-03,\n",
       "        3.12327454e-03, 2.48023406e-01, 1.21995155e-02, 1.50899461e-03,\n",
       "        1.91845582e-03, 1.10531016e-03, 5.70706674e-04, 5.73202327e-04,\n",
       "        4.50998865e-04, 2.16348184e-04, 8.58268177e-04, 2.15821798e-04,\n",
       "        3.21376807e-04, 2.95565173e-04, 2.37073097e-03, 3.26620066e-04,\n",
       "        2.35858234e-03, 1.63230090e-03, 1.31914718e-03, 1.99672044e-03,\n",
       "        7.05975224e-04, 8.54521000e-04, 1.88161992e-03, 1.12085976e-03,\n",
       "        1.17598951e-03, 4.93547413e-03, 1.63077388e-03, 7.20262586e-04,\n",
       "        2.96895113e-03, 7.60756549e-04, 7.69386825e-04, 6.03106397e-04,\n",
       "        1.37614843e-03, 1.29961804e-03, 3.86922620e-04, 9.26144305e-04,\n",
       "        5.40780311e-04, 1.42192899e-03, 2.03985837e-03, 4.96807974e-04,\n",
       "        1.03210961e-03, 1.62160862e-03, 2.87903240e-03, 6.68305019e-03,\n",
       "        5.77147072e-03, 7.64773740e-03, 8.40002380e-04, 2.19702692e-04,\n",
       "        3.37285618e-03, 1.71427685e-03, 1.82475266e-03, 8.52051366e-04,\n",
       "        3.94745672e-04, 1.50734163e-03, 7.60077499e-04, 2.10782140e-03,\n",
       "        1.97917130e-03, 1.10307231e-03, 6.86124957e-04, 2.95349583e-03,\n",
       "        1.96282216e-03, 5.96360071e-04, 1.12702150e-03, 1.09972223e-03,\n",
       "        1.65656058e-03, 5.30568417e-04, 2.87030940e-03, 4.24784346e-04,\n",
       "        1.33787296e-04, 5.87285589e-03, 5.95308933e-03, 1.29316596e-03,\n",
       "        3.71595612e-04, 3.23778309e-04, 1.21577643e-03, 5.37273532e-04,\n",
       "        2.35374027e-04, 1.20082486e-03, 4.19499679e-03, 6.42915547e-04,\n",
       "        1.61821838e-03, 8.54781189e-04, 4.25090984e-04, 4.56711481e-04,\n",
       "        6.78757264e-04, 3.88992659e-04, 3.83968552e-04, 5.56980551e-04,\n",
       "        8.10101687e-04, 1.85015859e-04, 1.52894610e-03, 1.09689566e-03,\n",
       "        2.45743140e-04, 9.85537772e-04, 2.91383680e-04, 5.06592216e-04,\n",
       "        9.63400526e-04, 1.57558417e-03, 1.75866298e-03, 1.44196488e-03,\n",
       "        1.09099364e-03, 4.39211307e-03, 1.33759645e-03, 4.63499082e-03,\n",
       "        1.32562313e-03, 1.07162970e-03, 5.45732619e-04, 3.01296357e-04,\n",
       "        7.57067464e-04, 5.72680321e-04, 2.34662835e-03, 6.16428151e-04,\n",
       "        1.34827092e-03, 4.20882221e-04, 5.46480122e-04, 8.84522451e-04,\n",
       "        4.59275063e-04, 3.23638460e-03, 9.41034406e-04, 1.00627448e-03,\n",
       "        4.98531619e-04, 3.19167360e-04, 2.12514820e-03, 1.41328003e-03,\n",
       "        1.24698598e-03, 6.89457462e-04, 1.53657701e-03, 2.00308918e-04,\n",
       "        4.81211115e-03, 1.83680304e-03, 2.37529282e-03, 3.99399269e-03,\n",
       "        3.43051017e-03, 1.13527861e-03, 4.92525334e-03, 3.16086970e-03,\n",
       "        2.05608155e-03, 2.56201834e-03, 1.13458559e-03, 1.33712648e-03,\n",
       "        1.28708361e-03, 2.46688211e-03, 1.79960462e-03, 3.18919355e-03,\n",
       "        1.99649902e-03, 4.26021608e-04, 2.44909781e-03, 1.47325255e-03,\n",
       "        9.56188655e-04, 1.59753289e-03, 1.53535599e-04, 2.65567855e-04,\n",
       "        2.04338902e-03, 6.05032546e-04, 8.79850588e-04, 4.60483017e-04,\n",
       "        4.75290144e-04, 2.03731732e-04, 5.48178738e-04, 5.64691960e-04,\n",
       "        4.47364699e-04, 6.56629971e-04, 1.70303613e-03, 2.65898975e-03,\n",
       "        5.93757862e-03, 9.03652981e-04, 6.08556031e-04, 2.43557268e-04,\n",
       "        7.44646764e-04, 4.46695427e-04, 1.22130127e-03, 2.30004895e-03,\n",
       "        7.56177003e-04, 3.70293361e-04, 6.51681388e-04, 5.90545424e-05,\n",
       "        3.02466302e-04, 3.24194058e-04, 6.61255210e-04, 5.69340540e-04,\n",
       "        1.16398442e-03, 4.99936577e-04, 1.66223181e-04, 2.28411658e-03,\n",
       "        4.19262244e-04, 9.02655185e-04, 1.37100997e-03, 7.32447137e-04,\n",
       "        6.86835207e-04, 6.97485171e-04, 2.09784455e-04, 8.95287143e-04,\n",
       "        1.59321504e-03, 1.81477913e-03, 1.18961930e-03, 9.98366741e-04,\n",
       "        1.48422900e-03, 5.54152590e-04, 1.30519888e-03, 1.60478964e-03,\n",
       "        2.92690325e-04, 5.38253866e-04, 3.62577266e-04, 4.78870032e-04,\n",
       "        9.48349771e-04, 5.66663395e-04, 2.31623475e-04, 1.40650163e-03,\n",
       "        2.26027332e-04, 5.39293542e-05, 3.10113683e-04, 1.57975359e-04,\n",
       "        7.01130950e-04, 5.68026910e-04, 3.89101508e-04, 2.15932741e-04,\n",
       "        9.39009420e-04, 8.94368859e-04, 2.46647955e-03, 4.08825930e-04,\n",
       "        2.61597219e-03, 7.91871047e-04, 1.50829786e-03, 1.20456575e-03,\n",
       "        3.78268235e-03, 3.28579248e-04, 1.01658436e-04, 6.49893598e-04,\n",
       "        1.67369249e-03, 1.93410565e-03, 1.44749429e-04, 9.30511102e-04,\n",
       "        4.32720408e-03, 1.67844846e-04, 6.40363083e-04, 6.44320273e-04,\n",
       "        2.04617318e-04, 7.62165728e-05, 1.59110830e-04, 9.46044165e-05,\n",
       "        2.41349888e-04, 3.41513776e-04, 1.34835689e-04, 1.48344052e-03,\n",
       "        6.03324850e-04, 3.57070676e-04, 4.68595099e-04, 6.82707527e-04,\n",
       "        5.17440087e-04, 6.14437391e-04, 8.03635106e-04, 5.22228540e-04,\n",
       "        1.70676538e-03, 3.72487819e-03, 2.73982505e-03, 1.25749980e-03,\n",
       "        1.58236839e-03, 2.51645106e-04, 7.76981295e-04, 2.69616605e-03,\n",
       "        2.12357938e-03, 5.00271504e-04, 5.03883092e-03, 1.57947303e-03,\n",
       "        2.33671954e-03, 4.55621775e-04, 1.10008102e-03, 3.51682247e-04,\n",
       "        4.06118250e-03, 1.39522250e-03, 2.50332034e-03, 2.48837424e-03,\n",
       "        3.06018419e-03, 8.33968981e-04, 2.52043217e-04, 7.79617869e-04,\n",
       "        5.02776704e-04, 3.27701768e-04, 1.04130909e-03, 9.28115973e-04,\n",
       "        6.48727408e-03, 1.63768958e-02, 6.00491476e-04, 1.70676212e-03,\n",
       "        1.31080538e-04, 2.64838629e-04, 6.19003025e-04, 3.37049831e-04,\n",
       "        2.36842243e-04, 3.41024774e-04, 2.19548703e-03, 1.17555051e-03,\n",
       "        8.97305203e-04, 8.10998376e-04, 9.00494284e-04, 2.34795312e-04,\n",
       "        8.88208975e-04, 2.43800998e-04, 2.47463281e-03, 1.00646960e-03,\n",
       "        1.63128006e-03, 8.70823278e-04, 4.01759200e-04, 9.83239806e-05,\n",
       "        1.91108708e-03, 2.99466355e-03, 5.18008368e-03, 3.87416134e-04,\n",
       "        1.79746549e-03, 7.93566651e-05, 6.94563554e-04, 9.56803095e-03,\n",
       "        4.47309157e-03, 5.66720963e-04, 3.38704354e-04, 5.27661468e-04,\n",
       "        9.13699972e-04, 1.74452760e-03, 3.23518208e-04, 8.43849964e-04,\n",
       "        3.56476812e-04, 5.61576383e-03, 1.30744220e-03, 6.59816153e-03,\n",
       "        1.04059302e-03, 5.28220553e-04, 4.51778731e-04, 1.46793236e-03,\n",
       "        2.84370966e-04, 4.93442232e-04, 3.20760044e-03, 2.95027159e-04,\n",
       "        7.50757055e-04, 9.31260525e-04, 5.23341761e-04, 6.28643174e-05,\n",
       "        3.69988149e-04, 1.01973349e-03, 2.45817180e-04, 1.66659965e-03,\n",
       "        1.29129400e-03, 4.99441987e-04, 1.15018236e-04, 3.70285619e-04,\n",
       "        7.43773766e-04, 1.31595843e-02, 5.35599282e-03, 3.67368176e-03,\n",
       "        3.21280910e-04, 1.41450859e-04, 3.93111375e-04, 6.34737313e-03,\n",
       "        2.22439831e-03, 3.19663296e-03, 3.31358612e-03, 7.23099860e-04,\n",
       "        4.49583429e-04, 1.74911902e-03, 1.41812940e-04, 4.67961421e-03,\n",
       "        1.00204407e-03, 1.55638860e-04, 1.68561441e-04, 4.16043098e-04,\n",
       "        4.22976958e-03, 1.50936539e-03, 2.76855123e-03, 1.47349865e-03,\n",
       "        1.06080277e-02, 6.89586566e-04, 1.81449912e-02, 6.72493177e-03,\n",
       "        3.53495032e-03, 3.26697598e-03, 4.18312568e-03, 5.34612034e-03,\n",
       "        1.05656926e-02, 9.68293229e-04, 5.97447797e-04, 3.00567015e-03,\n",
       "        9.77711461e-05, 4.73635970e-04, 9.12619347e-04, 4.46796836e-03,\n",
       "        2.01014616e-03, 2.62759393e-04, 1.05131080e-03, 7.84738513e-04,\n",
       "        3.10927583e-03, 7.35799922e-03, 3.74640222e-04]], dtype=float32)"
      ]
     },
     "execution_count": 33,
     "metadata": {},
     "output_type": "execute_result"
    }
   ],
   "source": [
    "print (time.strftime(\"%m/%d/%Y %H:%M:%S\"))\n",
    "model.predict(features[0:10].reshape(1,10,128))"
   ]
  },
  {
   "cell_type": "code",
   "execution_count": 23,
   "metadata": {},
   "outputs": [
    {
     "name": "stdout",
     "output_type": "stream",
     "text": [
      "Start loading PCA parameters:\n",
      "11/02/2018 13:23:08\n",
      "Start getting Mels:\n",
      "11/02/2018 13:23:08\n",
      "Start creating sessions:\n",
      "11/02/2018 13:23:12\n",
      "INFO:tensorflow:Restoring parameters from vggish_model.ckpt\n",
      "Finish loading VGG model:\n",
      "11/02/2018 13:23:16\n",
      "11/02/2018 13:23:16\n",
      "Finish feeding VGG:\n",
      "11/02/2018 13:23:22\n"
     ]
    },
    {
     "data": {
      "text/plain": [
       "array([[ 0.3515625, -0.921875 ,  0.1484375, ..., -0.9609375, -0.3671875,\n",
       "         0.9921875],\n",
       "       [ 0.359375 , -0.90625  ,  0.140625 , ..., -1.       ,  0.0390625,\n",
       "         0.9921875],\n",
       "       [ 0.2578125, -0.8671875,  0.21875  , ...,  0.046875 , -0.3515625,\n",
       "         0.9921875],\n",
       "       ...,\n",
       "       [ 0.203125 , -0.90625  ,  0.28125  , ..., -0.609375 , -1.       ,\n",
       "         0.9921875],\n",
       "       [ 0.1953125, -0.9375   ,  0.1640625, ..., -1.       ,  0.328125 ,\n",
       "         0.9921875],\n",
       "       [ 0.1875   , -0.9140625,  0.296875 , ..., -0.9765625, -0.421875 ,\n",
       "         0.9921875]], dtype=float32)"
      ]
     },
     "execution_count": 23,
     "metadata": {},
     "output_type": "execute_result"
    }
   ],
   "source": [
    "getAudioSetFeatures(FILE_NAME)"
   ]
  },
  {
   "cell_type": "code",
   "execution_count": 253,
   "metadata": {},
   "outputs": [
    {
     "name": "stdout",
     "output_type": "stream",
     "text": [
      "INFO:tensorflow:Restoring parameters from vggish_model.ckpt\n"
     ]
    },
    {
     "name": "stderr",
     "output_type": "stream",
     "text": [
      "INFO:tensorflow:Restoring parameters from vggish_model.ckpt\n"
     ]
    }
   ],
   "source": [
    "preds = tenSegModelPreds(getAudioSetFeatures(FILE_NAME), MODEL_NAME, WINDOW_LEFT, WINDOW_RIGHT)\n",
    "genSubsThres(preds, FILE_NAME, THRESHOLD)"
   ]
  },
  {
   "cell_type": "code",
   "execution_count": 254,
   "metadata": {},
   "outputs": [
    {
     "name": "stdout",
     "output_type": "stream",
     "text": [
      "Tagging for the whold clip.\n",
      "\"Squish\"\n",
      "----------------13.47\n",
      "\"Vehicle\"\n",
      "----------------12.84\n",
      "\"Gasp\"\n",
      "----------------8.63\n",
      "\"Whispering\"\n",
      "----------------7.98\n",
      "\"Musical instrument\"\n",
      "----------------7.48\n",
      "\"Single-lens reflex camera\"\n",
      "----------------7.42\n",
      "\"Inside\n",
      "----------------7.19\n",
      "\"Sound effect\"\n",
      "----------------6.69\n",
      "\"Bang\"\n",
      "----------------6.24\n",
      "\"Male speech\n",
      "----------------5.79\n",
      "\"Narration\n",
      "----------------5.56\n",
      "\"Echo\"\n",
      "----------------5.43\n",
      "\"Rain\"\n",
      "----------------5.28\n"
     ]
    }
   ],
   "source": [
    "giveSumRes(preds, THRESHOLD, SHOW_MUSIC_SPEECH)\n"
   ]
  },
  {
   "cell_type": "code",
   "execution_count": 230,
   "metadata": {
    "collapsed": true
   },
   "outputs": [],
   "source": [
    "printHeatMap(preds)"
   ]
  },
  {
   "cell_type": "markdown",
   "metadata": {},
   "source": [
    "['Greys', 'YlGnBu', 'Greens', 'YlOrRd', 'Bluered', 'RdBu',\n",
    "            'Reds', 'Blues', 'Picnic', 'Rainbow', 'Portland', 'Jet',\n",
    "            'Hot', 'Blackbody', 'Earth', 'Electric', 'Viridis', 'Cividis']"
   ]
  }
 ],
 "metadata": {
  "kernelspec": {
   "display_name": "Python 3",
   "language": "python",
   "name": "python3"
  },
  "language_info": {
   "codemirror_mode": {
    "name": "ipython",
    "version": 3
   },
   "file_extension": ".py",
   "mimetype": "text/x-python",
   "name": "python",
   "nbconvert_exporter": "python",
   "pygments_lexer": "ipython3",
   "version": "3.6.3"
  }
 },
 "nbformat": 4,
 "nbformat_minor": 2
}
